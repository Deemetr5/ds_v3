{
 "cells": [
  {
   "cell_type": "markdown",
   "metadata": {},
   "source": [
    "Библиотека Pandas — это весьма эффективный инструмент для обработки данных, представляющих собой временные ряды. На самом деле, эта библиотека была создана Уэсом МакКинни для работы с финансовыми данными, которые состоят, главным образом, из временных рядов.\n",
    "\n",
    "При работе с временными рядами много сил уходит на выполнение различных операций с датой и временем. Этот материал посвящён ответам на четыре распространённых вопроса из данной сферы."
   ]
  },
  {
   "cell_type": "markdown",
   "metadata": {},
   "source": [
    "Возможно, вы уже сталкивались с этими вопросами. Ответить на все из них, кроме последнего, можно сравнительно просто. А вот ответ на последний, довольно-таки хитрый вопрос, представляет собой последовательность из нескольких действий.\n",
    "\n",
    "Начнём с создания учебного датафрейма (объекта DataFrame), с которым будем экспериментировать:"
   ]
  },
  {
   "cell_type": "code",
   "execution_count": 2,
   "metadata": {},
   "outputs": [],
   "source": [
    "import pandas as pd"
   ]
  },
  {
   "cell_type": "code",
   "execution_count": 4,
   "metadata": {},
   "outputs": [
    {
     "data": {
      "text/html": [
       "<div>\n",
       "<style scoped>\n",
       "    .dataframe tbody tr th:only-of-type {\n",
       "        vertical-align: middle;\n",
       "    }\n",
       "\n",
       "    .dataframe tbody tr th {\n",
       "        vertical-align: top;\n",
       "    }\n",
       "\n",
       "    .dataframe thead th {\n",
       "        text-align: right;\n",
       "    }\n",
       "</style>\n",
       "<table border=\"1\" class=\"dataframe\">\n",
       "  <thead>\n",
       "    <tr style=\"text-align: right;\">\n",
       "      <th></th>\n",
       "      <th>booking_id</th>\n",
       "      <th>property</th>\n",
       "      <th>created_at</th>\n",
       "      <th>checkin_date</th>\n",
       "      <th>checkout_date</th>\n",
       "      <th>amount</th>\n",
       "    </tr>\n",
       "  </thead>\n",
       "  <tbody>\n",
       "    <tr>\n",
       "      <th>0</th>\n",
       "      <td>1001</td>\n",
       "      <td>A</td>\n",
       "      <td>2022-03-01</td>\n",
       "      <td>2022-06-01</td>\n",
       "      <td>2022-06-06</td>\n",
       "      <td>5400</td>\n",
       "    </tr>\n",
       "    <tr>\n",
       "      <th>1</th>\n",
       "      <td>1002</td>\n",
       "      <td>A</td>\n",
       "      <td>2022-02-10</td>\n",
       "      <td>2022-06-10</td>\n",
       "      <td>2022-06-15</td>\n",
       "      <td>5600</td>\n",
       "    </tr>\n",
       "    <tr>\n",
       "      <th>2</th>\n",
       "      <td>1003</td>\n",
       "      <td>B</td>\n",
       "      <td>2022-04-12</td>\n",
       "      <td>2022-06-02</td>\n",
       "      <td>2022-06-06</td>\n",
       "      <td>4800</td>\n",
       "    </tr>\n",
       "    <tr>\n",
       "      <th>3</th>\n",
       "      <td>1004</td>\n",
       "      <td>B</td>\n",
       "      <td>2022-04-11</td>\n",
       "      <td>2022-06-20</td>\n",
       "      <td>2022-06-28</td>\n",
       "      <td>9000</td>\n",
       "    </tr>\n",
       "    <tr>\n",
       "      <th>4</th>\n",
       "      <td>1005</td>\n",
       "      <td>C</td>\n",
       "      <td>2022-06-05</td>\n",
       "      <td>2022-08-10</td>\n",
       "      <td>2022-08-16</td>\n",
       "      <td>6500</td>\n",
       "    </tr>\n",
       "  </tbody>\n",
       "</table>\n",
       "</div>"
      ],
      "text/plain": [
       "   booking_id property created_at checkin_date checkout_date  amount\n",
       "0        1001        A 2022-03-01   2022-06-01    2022-06-06    5400\n",
       "1        1002        A 2022-02-10   2022-06-10    2022-06-15    5600\n",
       "2        1003        B 2022-04-12   2022-06-02    2022-06-06    4800\n",
       "3        1004        B 2022-04-11   2022-06-20    2022-06-28    9000\n",
       "4        1005        C 2022-06-05   2022-08-10    2022-08-16    6500"
      ]
     },
     "execution_count": 4,
     "metadata": {},
     "output_type": "execute_result"
    }
   ],
   "source": [
    "df = pd.DataFrame({\n",
    "    \"booking_id\": [1001, 1002, 1003, 1004, 1005],\n",
    "    \"property\" : [\"A\", \"A\", \"B\", \"B\", \"C\"],\n",
    "    \"created_at\": [\"2022-03-01\", \"2022-02-10\", \"2022-04-12\",\n",
    "                   \"2022-04-11\", \"2022-06-05\"],\n",
    "    \"checkin_date\": [\"2022-06-01\", \"2022-06-10\", \"2022-06-02\",\n",
    "                     \"2022-06-20\", \"2022-08-10\"],\n",
    "    \"checkout_date\": [\"2022-06-06\", \"2022-06-15\", \n",
    "                      \"2022-06-06\",\"2022-06-28\", \"2022-08-16\"],\n",
    "    \"amount\": [5400, 5600, 4800, 9000, 6500]\n",
    "})\n",
    "# изменение типа данных \n",
    "date_cols = [\"created_at\",\"checkin_date\",\"checkout_date\"]\n",
    "df[date_cols] = df[date_cols].astype(\"datetime64[ns]\")\n",
    "# вывод объекта DataFrame\n",
    "df"
   ]
  },
  {
   "cell_type": "markdown",
   "metadata": {},
   "source": [
    "Для того чтобы у нас была бы возможность пользоваться функциями pandas, предназначенными для работы с датой и временем, даты в датафрейме должны быть представлены значениями подходящего типа данных. Именно по этой причине мы поменяли тип данных соответствующих столбцов на datetime64[ns]."
   ]
  },
  {
   "cell_type": "markdown",
   "metadata": {},
   "source": [
    "1. Как извлечь из даты информацию о месяце и годе?\n",
    "Дата содержит различные фрагменты информации, такие как год, день недели, месяц и так далее. Все эти фрагменты можно извлечь из даты с использованием методов, к которым обращаются через аксессор dt.\n",
    "\n",
    "Например, месяц можно получить с помощью метода month. А как получить сведения о годе и месяце в формате ГГГГ-ММ? Ответ на этот вопрос уже не так очевиден. Извлечь эти сведения из даты можно, прибегнув к методу to_period:"
   ]
  },
  {
   "cell_type": "code",
   "execution_count": 8,
   "metadata": {},
   "outputs": [
    {
     "data": {
      "text/html": [
       "<div>\n",
       "<style scoped>\n",
       "    .dataframe tbody tr th:only-of-type {\n",
       "        vertical-align: middle;\n",
       "    }\n",
       "\n",
       "    .dataframe tbody tr th {\n",
       "        vertical-align: top;\n",
       "    }\n",
       "\n",
       "    .dataframe thead th {\n",
       "        text-align: right;\n",
       "    }\n",
       "</style>\n",
       "<table border=\"1\" class=\"dataframe\">\n",
       "  <thead>\n",
       "    <tr style=\"text-align: right;\">\n",
       "      <th></th>\n",
       "      <th>booking_id</th>\n",
       "      <th>property</th>\n",
       "      <th>created_at</th>\n",
       "      <th>checkin_date</th>\n",
       "      <th>checkout_date</th>\n",
       "      <th>amount</th>\n",
       "      <th>year_month</th>\n",
       "    </tr>\n",
       "  </thead>\n",
       "  <tbody>\n",
       "    <tr>\n",
       "      <th>0</th>\n",
       "      <td>1001</td>\n",
       "      <td>A</td>\n",
       "      <td>2022-03-01</td>\n",
       "      <td>2022-06-01</td>\n",
       "      <td>2022-06-06</td>\n",
       "      <td>5400</td>\n",
       "      <td>2022-03</td>\n",
       "    </tr>\n",
       "    <tr>\n",
       "      <th>1</th>\n",
       "      <td>1002</td>\n",
       "      <td>A</td>\n",
       "      <td>2022-02-10</td>\n",
       "      <td>2022-06-10</td>\n",
       "      <td>2022-06-15</td>\n",
       "      <td>5600</td>\n",
       "      <td>2022-02</td>\n",
       "    </tr>\n",
       "    <tr>\n",
       "      <th>2</th>\n",
       "      <td>1003</td>\n",
       "      <td>B</td>\n",
       "      <td>2022-04-12</td>\n",
       "      <td>2022-06-02</td>\n",
       "      <td>2022-06-06</td>\n",
       "      <td>4800</td>\n",
       "      <td>2022-04</td>\n",
       "    </tr>\n",
       "    <tr>\n",
       "      <th>3</th>\n",
       "      <td>1004</td>\n",
       "      <td>B</td>\n",
       "      <td>2022-04-11</td>\n",
       "      <td>2022-06-20</td>\n",
       "      <td>2022-06-28</td>\n",
       "      <td>9000</td>\n",
       "      <td>2022-04</td>\n",
       "    </tr>\n",
       "    <tr>\n",
       "      <th>4</th>\n",
       "      <td>1005</td>\n",
       "      <td>C</td>\n",
       "      <td>2022-06-05</td>\n",
       "      <td>2022-08-10</td>\n",
       "      <td>2022-08-16</td>\n",
       "      <td>6500</td>\n",
       "      <td>2022-06</td>\n",
       "    </tr>\n",
       "  </tbody>\n",
       "</table>\n",
       "</div>"
      ],
      "text/plain": [
       "   booking_id property created_at checkin_date checkout_date  amount  \\\n",
       "0        1001        A 2022-03-01   2022-06-01    2022-06-06    5400   \n",
       "1        1002        A 2022-02-10   2022-06-10    2022-06-15    5600   \n",
       "2        1003        B 2022-04-12   2022-06-02    2022-06-06    4800   \n",
       "3        1004        B 2022-04-11   2022-06-20    2022-06-28    9000   \n",
       "4        1005        C 2022-06-05   2022-08-10    2022-08-16    6500   \n",
       "\n",
       "  year_month  \n",
       "0    2022-03  \n",
       "1    2022-02  \n",
       "2    2022-04  \n",
       "3    2022-04  \n",
       "4    2022-06  "
      ]
     },
     "execution_count": 8,
     "metadata": {},
     "output_type": "execute_result"
    }
   ],
   "source": [
    "# создание столбца year_month\n",
    "df[\"year_month\"] = df[\"created_at\"].dt.to_period(\"M\")\n",
    "# вывод объекта DataFrame\n",
    "df"
   ]
  },
  {
   "cell_type": "markdown",
   "metadata": {},
   "source": [
    "Как прибавить к дате временной интервал?\n",
    "Прибавление к датам временных интервалов или вычитание их из дат — это одна из операций, часто встречающихся при работе с датами. Выполнить её можно, воспользовавшись функцией DateOffset.\n",
    "\n",
    "Добавим 1 день к дате выселения (например — из некоего объекта недвижимости) (checkout_date) для записи о бронировании с идентификатором 1001:"
   ]
  },
  {
   "cell_type": "code",
   "execution_count": 11,
   "metadata": {},
   "outputs": [
    {
     "name": "stdout",
     "output_type": "stream",
     "text": [
      "0   2022-06-08\n",
      "Name: checkout_date, dtype: datetime64[ns]\n"
     ]
    }
   ],
   "source": [
    "df.loc[df[\"booking_id\"]==1001, \"checkout_date\"] = \\\n",
    "df.loc[df[\"booking_id\"]==1001, \"checkout_date\"] + \\\n",
    "pd.DateOffset(days=1)\n",
    "# проверка результата\n",
    "print(df.loc[df[\"booking_id\"]==1001, \"checkout_date\"])\n",
    "# вывод 0   2022-06-07\n",
    "# Name: checkout_date, dtype: datetime64[ns]"
   ]
  },
  {
   "cell_type": "markdown",
   "metadata": {},
   "source": [
    "3. Как найти интервал в днях между двумя датами?\n",
    "Интервал между двумя датами можно найти, вычтя одну из другой. Результатом этой операции будет объект Timedelta, а это не совсем то, что нам нужно:"
   ]
  },
  {
   "cell_type": "code",
   "execution_count": 13,
   "metadata": {},
   "outputs": [
    {
     "data": {
      "text/plain": [
       "Timedelta('7 days 00:00:00')"
      ]
     },
     "execution_count": 13,
     "metadata": {},
     "output_type": "execute_result"
    }
   ],
   "source": [
    "df[\"checkout_date\"][0] - df[\"checkin_date\"][0]\n",
    "# вывод Timedelta('6 days 00:00:00')"
   ]
  },
  {
   "cell_type": "markdown",
   "metadata": {},
   "source": [
    "Получить разницу между датами в днях, в виде целого числа, можно, воспользовавшись атрибутом days. Создадим столбец, который выводит разницу в днях между датой вселения (checkin_date) и датой создания бронирования (created_at):"
   ]
  },
  {
   "cell_type": "code",
   "execution_count": 14,
   "metadata": {},
   "outputs": [
    {
     "data": {
      "text/html": [
       "<div>\n",
       "<style scoped>\n",
       "    .dataframe tbody tr th:only-of-type {\n",
       "        vertical-align: middle;\n",
       "    }\n",
       "\n",
       "    .dataframe tbody tr th {\n",
       "        vertical-align: top;\n",
       "    }\n",
       "\n",
       "    .dataframe thead th {\n",
       "        text-align: right;\n",
       "    }\n",
       "</style>\n",
       "<table border=\"1\" class=\"dataframe\">\n",
       "  <thead>\n",
       "    <tr style=\"text-align: right;\">\n",
       "      <th></th>\n",
       "      <th>booking_id</th>\n",
       "      <th>property</th>\n",
       "      <th>created_at</th>\n",
       "      <th>checkin_date</th>\n",
       "      <th>checkout_date</th>\n",
       "      <th>amount</th>\n",
       "      <th>year_month</th>\n",
       "      <th>days_to_checkin</th>\n",
       "    </tr>\n",
       "  </thead>\n",
       "  <tbody>\n",
       "    <tr>\n",
       "      <th>0</th>\n",
       "      <td>1001</td>\n",
       "      <td>A</td>\n",
       "      <td>2022-03-01</td>\n",
       "      <td>2022-06-01</td>\n",
       "      <td>2022-06-08</td>\n",
       "      <td>5400</td>\n",
       "      <td>2022-03</td>\n",
       "      <td>92</td>\n",
       "    </tr>\n",
       "    <tr>\n",
       "      <th>1</th>\n",
       "      <td>1002</td>\n",
       "      <td>A</td>\n",
       "      <td>2022-02-10</td>\n",
       "      <td>2022-06-10</td>\n",
       "      <td>2022-06-15</td>\n",
       "      <td>5600</td>\n",
       "      <td>2022-02</td>\n",
       "      <td>120</td>\n",
       "    </tr>\n",
       "    <tr>\n",
       "      <th>2</th>\n",
       "      <td>1003</td>\n",
       "      <td>B</td>\n",
       "      <td>2022-04-12</td>\n",
       "      <td>2022-06-02</td>\n",
       "      <td>2022-06-06</td>\n",
       "      <td>4800</td>\n",
       "      <td>2022-04</td>\n",
       "      <td>51</td>\n",
       "    </tr>\n",
       "    <tr>\n",
       "      <th>3</th>\n",
       "      <td>1004</td>\n",
       "      <td>B</td>\n",
       "      <td>2022-04-11</td>\n",
       "      <td>2022-06-20</td>\n",
       "      <td>2022-06-28</td>\n",
       "      <td>9000</td>\n",
       "      <td>2022-04</td>\n",
       "      <td>70</td>\n",
       "    </tr>\n",
       "    <tr>\n",
       "      <th>4</th>\n",
       "      <td>1005</td>\n",
       "      <td>C</td>\n",
       "      <td>2022-06-05</td>\n",
       "      <td>2022-08-10</td>\n",
       "      <td>2022-08-16</td>\n",
       "      <td>6500</td>\n",
       "      <td>2022-06</td>\n",
       "      <td>66</td>\n",
       "    </tr>\n",
       "  </tbody>\n",
       "</table>\n",
       "</div>"
      ],
      "text/plain": [
       "   booking_id property created_at checkin_date checkout_date  amount  \\\n",
       "0        1001        A 2022-03-01   2022-06-01    2022-06-08    5400   \n",
       "1        1002        A 2022-02-10   2022-06-10    2022-06-15    5600   \n",
       "2        1003        B 2022-04-12   2022-06-02    2022-06-06    4800   \n",
       "3        1004        B 2022-04-11   2022-06-20    2022-06-28    9000   \n",
       "4        1005        C 2022-06-05   2022-08-10    2022-08-16    6500   \n",
       "\n",
       "  year_month  days_to_checkin  \n",
       "0    2022-03               92  \n",
       "1    2022-02              120  \n",
       "2    2022-04               51  \n",
       "3    2022-04               70  \n",
       "4    2022-06               66  "
      ]
     },
     "execution_count": 14,
     "metadata": {},
     "output_type": "execute_result"
    }
   ],
   "source": [
    "# разница, выраженная в днях\n",
    "df[\"days_to_checkin\"] = \\\n",
    "(df[\"checkin_date\"] - df[\"created_at\"]).dt.days\n",
    "# вывод объекта DataFrame\n",
    "df"
   ]
  }
 ],
 "metadata": {
  "kernelspec": {
   "display_name": "Python 3",
   "language": "python",
   "name": "python3"
  },
  "language_info": {
   "codemirror_mode": {
    "name": "ipython",
    "version": 3
   },
   "file_extension": ".py",
   "mimetype": "text/x-python",
   "name": "python",
   "nbconvert_exporter": "python",
   "pygments_lexer": "ipython3",
   "version": "3.9.10"
  },
  "orig_nbformat": 4
 },
 "nbformat": 4,
 "nbformat_minor": 2
}
