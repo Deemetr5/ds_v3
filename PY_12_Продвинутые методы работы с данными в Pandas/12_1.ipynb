{
 "cells": [
  {
   "cell_type": "code",
   "execution_count": 64,
   "metadata": {},
   "outputs": [
    {
     "data": {
      "text/html": [
       "<div>\n",
       "<style scoped>\n",
       "    .dataframe tbody tr th:only-of-type {\n",
       "        vertical-align: middle;\n",
       "    }\n",
       "\n",
       "    .dataframe tbody tr th {\n",
       "        vertical-align: top;\n",
       "    }\n",
       "\n",
       "    .dataframe thead th {\n",
       "        text-align: right;\n",
       "    }\n",
       "</style>\n",
       "<table border=\"1\" class=\"dataframe\">\n",
       "  <thead>\n",
       "    <tr style=\"text-align: right;\">\n",
       "      <th></th>\n",
       "      <th>Unnamed: 0</th>\n",
       "      <th>userId</th>\n",
       "      <th>movieId</th>\n",
       "      <th>rating</th>\n",
       "      <th>date</th>\n",
       "      <th>title</th>\n",
       "      <th>genres</th>\n",
       "    </tr>\n",
       "  </thead>\n",
       "  <tbody>\n",
       "    <tr>\n",
       "      <th>0</th>\n",
       "      <td>0</td>\n",
       "      <td>1</td>\n",
       "      <td>1</td>\n",
       "      <td>4.0</td>\n",
       "      <td>2000-07-30 18:45:03</td>\n",
       "      <td>Toy Story (1995)</td>\n",
       "      <td>Adventure|Animation|Children|Comedy|Fantasy</td>\n",
       "    </tr>\n",
       "    <tr>\n",
       "      <th>1</th>\n",
       "      <td>1</td>\n",
       "      <td>1</td>\n",
       "      <td>3</td>\n",
       "      <td>4.0</td>\n",
       "      <td>2000-07-30 18:20:47</td>\n",
       "      <td>Grumpier Old Men (1995)</td>\n",
       "      <td>Comedy|Romance</td>\n",
       "    </tr>\n",
       "  </tbody>\n",
       "</table>\n",
       "</div>"
      ],
      "text/plain": [
       "   Unnamed: 0  userId  movieId  rating                 date  \\\n",
       "0           0       1        1     4.0  2000-07-30 18:45:03   \n",
       "1           1       1        3     4.0  2000-07-30 18:20:47   \n",
       "\n",
       "                     title                                       genres  \n",
       "0         Toy Story (1995)  Adventure|Animation|Children|Comedy|Fantasy  \n",
       "1  Grumpier Old Men (1995)                               Comedy|Romance  "
      ]
     },
     "execution_count": 64,
     "metadata": {},
     "output_type": "execute_result"
    }
   ],
   "source": [
    "import pandas as pd\n",
    "\n",
    "ratings_movies = pd.read_csv('data/ratings_movies.csv')\n",
    "ratings_movies.head(2)"
   ]
  },
  {
   "cell_type": "markdown",
   "metadata": {},
   "source": [
    "Для решения задач нам понадобится выделить из признака title год выпуска фильма. Для этого напишем функцию get_year_release(arg)."
   ]
  },
  {
   "cell_type": "code",
   "execution_count": 65,
   "metadata": {},
   "outputs": [],
   "source": [
    "#библиотека для регулярных выражений\n",
    "import re \n",
    "def get_year_release(arg):\n",
    "    #находим все слова по шаблону \"(DDDD)\"\n",
    "    candidates = re.findall(r'\\(\\d{4}\\)', arg) \n",
    "    # проверяем число вхождений\n",
    "    if len(candidates) > 0:\n",
    "        #если число вхождений больше 0,\n",
    "\t#очищаем строку от знаков \"(\" и \")\"\n",
    "        year = candidates[0].replace('(', '')\n",
    "        year = year.replace(')', '')\n",
    "        return int(year)\n",
    "    else:\n",
    "        #если год не указан, возвращаем None\n",
    "        return None"
   ]
  },
  {
   "cell_type": "code",
   "execution_count": 66,
   "metadata": {},
   "outputs": [
    {
     "data": {
      "text/plain": [
       "100836"
      ]
     },
     "metadata": {},
     "output_type": "display_data"
    }
   ],
   "source": [
    "display(ratings_movies.shape[0])"
   ]
  },
  {
   "cell_type": "markdown",
   "metadata": {},
   "source": [
    "Данная функция основана на регулярных выражениях и использует модуль re, с которым мы пока не работали.\n",
    "\n",
    "→ Модуль re предназначен для поиска шаблонов в тексте и встроен в язык, поэтому не нуждается в установке."
   ]
  },
  {
   "cell_type": "markdown",
   "metadata": {},
   "source": [
    "ДОПОЛНИТЕЛЬНО\n",
    "\n",
    "При желании вы можете ознакомиться с регулярными выражениями по https://tproger.ru/translations/regular-expression-python/, однако это не является обязательным для выполнения заданий в этом юните."
   ]
  },
  {
   "cell_type": "markdown",
   "metadata": {},
   "source": [
    "Из модуля re нам понадобится только функция findall(), которая позволяет найти в строке все слова, удовлетворяющие шаблону. Мы находим в строке с названием фильма шаблон \"(DDDD)\" — четыре цифры, обёрнутых в скобки, что соответствует году выпуска фильма. Если такого шаблона не было найдено (год выпуска не указан), функция возвращает None (в таблице это будет помечено как пропуск).\n",
    "\n",
    "Совет: для выполнения заданий используйте изученные в этом модуле методы."
   ]
  },
  {
   "cell_type": "markdown",
   "metadata": {},
   "source": [
    "Задание 8.1\n",
    "1 point possible (graded)\n",
    "Создайте в таблице новый признак year_release, который соответствует году выпуска фильма.\n",
    "У скольких фильмов не указан год их выпуска?"
   ]
  },
  {
   "cell_type": "code",
   "execution_count": 67,
   "metadata": {},
   "outputs": [
    {
     "name": "stdout",
     "output_type": "stream",
     "text": [
      "18\n"
     ]
    }
   ],
   "source": [
    "ratings_movies['year_release'] = ratings_movies['title'].apply(get_year_release)\n",
    "\n",
    "a = ratings_movies.shape[0] # 100836\n",
    "b = ratings_movies['year_release'].count() # 100818\n",
    "print(a-b) # 18"
   ]
  },
  {
   "cell_type": "markdown",
   "metadata": {},
   "source": [
    "Задание 8.2\n",
    "1 point possible (graded)\n",
    "Какой фильм, выпущенный в 1999 году, получил наименьшую среднюю оценку зрителей?\n",
    "В качестве ответа запишите название этого фильма без указания года его выпуска."
   ]
  },
  {
   "cell_type": "code",
   "execution_count": 68,
   "metadata": {},
   "outputs": [
    {
     "data": {
      "text/plain": [
       "title\n",
       "Bloodsport: The Dark Kumite (1999)            0.5\n",
       "Simon Sez (1999)                              1.0\n",
       "Chill Factor (1999)                           1.0\n",
       "Source, The (1999)                            1.0\n",
       "Trippin' (1999)                               1.0\n",
       "                                             ... \n",
       "Trailer Park Boys (1999)                      5.0\n",
       "Larry David: Curb Your Enthusiasm (1999)      5.0\n",
       "Sun Alley (Sonnenallee) (1999)                5.0\n",
       "George Carlin: You Are All Diseased (1999)    5.0\n",
       "Five Senses, The (1999)                       5.0\n",
       "Name: rating, Length: 261, dtype: float64"
      ]
     },
     "execution_count": 68,
     "metadata": {},
     "output_type": "execute_result"
    }
   ],
   "source": [
    "mask = ratings_movies['year_release'] == 1999\n",
    "\n",
    "ratings_movies[mask].groupby('title')['rating'].mean().sort_values(ascending=True)"
   ]
  },
  {
   "cell_type": "markdown",
   "metadata": {},
   "source": [
    "Задание 8.3\n",
    "1 point possible (graded)\n",
    "Какое сочетание жанров фильмов (genres), выпущенных в 2010 году, получило наименьшую среднюю оценку (rating)?\n",
    "Запишите сочетание так же, как оно указано в таблице (через разделитель |, без пробелов)."
   ]
  },
  {
   "cell_type": "code",
   "execution_count": 69,
   "metadata": {},
   "outputs": [
    {
     "data": {
      "text/plain": [
       "genres\n",
       "Action|Sci-Fi                        1.000000\n",
       "Action|Adventure|Horror              1.500000\n",
       "Action|Drama|Fantasy                 1.500000\n",
       "Crime|Romance                        1.500000\n",
       "Adventure|Comedy|Fantasy             1.833333\n",
       "                                       ...   \n",
       "Crime                                4.750000\n",
       "Comedy|Musical                       5.000000\n",
       "Animation|Drama|Fantasy|Mystery      5.000000\n",
       "Adventure|Children|Comedy|Mystery    5.000000\n",
       "Animation|Children|Mystery           5.000000\n",
       "Name: rating, Length: 119, dtype: float64"
      ]
     },
     "execution_count": 69,
     "metadata": {},
     "output_type": "execute_result"
    }
   ],
   "source": [
    "mask2 = ratings_movies['year_release'] == 2010\n",
    "\n",
    "ratings_movies[mask2].groupby('genres')['rating'].mean().sort_values(ascending=True)"
   ]
  },
  {
   "cell_type": "markdown",
   "metadata": {},
   "source": [
    "Задание 8.4\n",
    "1 point possible (graded)\n",
    "Какой пользователь (userId) посмотрел наибольшее количество различных (уникальных) комбинаций жанров (genres) фильмов? В качестве ответа запишите идентификатор этого пользователя."
   ]
  },
  {
   "cell_type": "code",
   "execution_count": 70,
   "metadata": {},
   "outputs": [
    {
     "data": {
      "text/plain": [
       "userId\n",
       "599    524\n",
       "414    482\n",
       "448    403\n",
       "380    399\n",
       "474    395\n",
       "      ... \n",
       "578     15\n",
       "12      15\n",
       "85      13\n",
       "214     13\n",
       "245     13\n",
       "Name: genres, Length: 610, dtype: int64"
      ]
     },
     "execution_count": 70,
     "metadata": {},
     "output_type": "execute_result"
    }
   ],
   "source": [
    "ratings_movies.groupby('userId')['genres'].nunique().sort_values(ascending=False)"
   ]
  },
  {
   "cell_type": "markdown",
   "metadata": {},
   "source": [
    "Задание 8.5\n",
    "1 point possible (graded)\n",
    "Найдите пользователя, который выставил наименьшее количество оценок, но его средняя оценка фильмам наибольшая.\n",
    "В качестве ответа укажите идентификатор этого пользователя.\n",
    "Чтобы рассчитать несколько параметров для каждого пользователя (количество оценок и среднюю оценку), можно воспользоваться методом agg() на сгруппированных данных."
   ]
  },
  {
   "cell_type": "code",
   "execution_count": 71,
   "metadata": {},
   "outputs": [
    {
     "data": {
      "text/html": [
       "<div>\n",
       "<style scoped>\n",
       "    .dataframe tbody tr th:only-of-type {\n",
       "        vertical-align: middle;\n",
       "    }\n",
       "\n",
       "    .dataframe tbody tr th {\n",
       "        vertical-align: top;\n",
       "    }\n",
       "\n",
       "    .dataframe thead th {\n",
       "        text-align: right;\n",
       "    }\n",
       "</style>\n",
       "<table border=\"1\" class=\"dataframe\">\n",
       "  <thead>\n",
       "    <tr style=\"text-align: right;\">\n",
       "      <th></th>\n",
       "      <th>count</th>\n",
       "      <th>mean</th>\n",
       "      <th>max</th>\n",
       "    </tr>\n",
       "    <tr>\n",
       "      <th>userId</th>\n",
       "      <th></th>\n",
       "      <th></th>\n",
       "      <th></th>\n",
       "    </tr>\n",
       "  </thead>\n",
       "  <tbody>\n",
       "    <tr>\n",
       "      <th>53</th>\n",
       "      <td>20</td>\n",
       "      <td>5.000000</td>\n",
       "      <td>5.0</td>\n",
       "    </tr>\n",
       "    <tr>\n",
       "      <th>251</th>\n",
       "      <td>23</td>\n",
       "      <td>4.869565</td>\n",
       "      <td>5.0</td>\n",
       "    </tr>\n",
       "    <tr>\n",
       "      <th>515</th>\n",
       "      <td>26</td>\n",
       "      <td>4.846154</td>\n",
       "      <td>5.0</td>\n",
       "    </tr>\n",
       "    <tr>\n",
       "      <th>25</th>\n",
       "      <td>26</td>\n",
       "      <td>4.807692</td>\n",
       "      <td>5.0</td>\n",
       "    </tr>\n",
       "    <tr>\n",
       "      <th>30</th>\n",
       "      <td>34</td>\n",
       "      <td>4.735294</td>\n",
       "      <td>5.0</td>\n",
       "    </tr>\n",
       "    <tr>\n",
       "      <th>...</th>\n",
       "      <td>...</td>\n",
       "      <td>...</td>\n",
       "      <td>...</td>\n",
       "    </tr>\n",
       "    <tr>\n",
       "      <th>567</th>\n",
       "      <td>385</td>\n",
       "      <td>2.245455</td>\n",
       "      <td>5.0</td>\n",
       "    </tr>\n",
       "    <tr>\n",
       "      <th>153</th>\n",
       "      <td>179</td>\n",
       "      <td>2.217877</td>\n",
       "      <td>5.0</td>\n",
       "    </tr>\n",
       "    <tr>\n",
       "      <th>508</th>\n",
       "      <td>24</td>\n",
       "      <td>2.145833</td>\n",
       "      <td>4.5</td>\n",
       "    </tr>\n",
       "    <tr>\n",
       "      <th>139</th>\n",
       "      <td>194</td>\n",
       "      <td>2.144330</td>\n",
       "      <td>4.0</td>\n",
       "    </tr>\n",
       "    <tr>\n",
       "      <th>442</th>\n",
       "      <td>20</td>\n",
       "      <td>1.275000</td>\n",
       "      <td>2.5</td>\n",
       "    </tr>\n",
       "  </tbody>\n",
       "</table>\n",
       "<p>610 rows × 3 columns</p>\n",
       "</div>"
      ],
      "text/plain": [
       "        count      mean  max\n",
       "userId                      \n",
       "53         20  5.000000  5.0\n",
       "251        23  4.869565  5.0\n",
       "515        26  4.846154  5.0\n",
       "25         26  4.807692  5.0\n",
       "30         34  4.735294  5.0\n",
       "...       ...       ...  ...\n",
       "567       385  2.245455  5.0\n",
       "153       179  2.217877  5.0\n",
       "508        24  2.145833  4.5\n",
       "139       194  2.144330  4.0\n",
       "442        20  1.275000  2.5\n",
       "\n",
       "[610 rows x 3 columns]"
      ]
     },
     "execution_count": 71,
     "metadata": {},
     "output_type": "execute_result"
    }
   ],
   "source": [
    "ratings_movies.groupby('userId')['rating'].agg(\n",
    "    ['count', 'mean', 'max']\n",
    ").sort_values(by='mean', ascending=False)"
   ]
  },
  {
   "cell_type": "markdown",
   "metadata": {},
   "source": [
    "Задание 8.6\n",
    "1 point possible (graded)\n",
    "Найдите сочетание жанров (genres) за 2018 год, которое имеет наибольший средний рейтинг (среднее по столбцу rating), и при этом число выставленных ему оценок (количество значений в столбце rating) больше 10.\n",
    "Запишите сочетание так же, как оно указано в таблице (через разделитель |, без пробелов)."
   ]
  },
  {
   "cell_type": "code",
   "execution_count": 72,
   "metadata": {},
   "outputs": [
    {
     "data": {
      "text/html": [
       "<div>\n",
       "<style scoped>\n",
       "    .dataframe tbody tr th:only-of-type {\n",
       "        vertical-align: middle;\n",
       "    }\n",
       "\n",
       "    .dataframe tbody tr th {\n",
       "        vertical-align: top;\n",
       "    }\n",
       "\n",
       "    .dataframe thead th {\n",
       "        text-align: right;\n",
       "    }\n",
       "</style>\n",
       "<table border=\"1\" class=\"dataframe\">\n",
       "  <thead>\n",
       "    <tr style=\"text-align: right;\">\n",
       "      <th></th>\n",
       "      <th>count</th>\n",
       "      <th>mean</th>\n",
       "      <th>max</th>\n",
       "    </tr>\n",
       "    <tr>\n",
       "      <th>genres</th>\n",
       "      <th></th>\n",
       "      <th></th>\n",
       "      <th></th>\n",
       "    </tr>\n",
       "  </thead>\n",
       "  <tbody>\n",
       "    <tr>\n",
       "      <th>Adventure|Comedy|Fantasy</th>\n",
       "      <td>1</td>\n",
       "      <td>4.500000</td>\n",
       "      <td>4.5</td>\n",
       "    </tr>\n",
       "    <tr>\n",
       "      <th>Comedy|Romance</th>\n",
       "      <td>1</td>\n",
       "      <td>4.500000</td>\n",
       "      <td>4.5</td>\n",
       "    </tr>\n",
       "    <tr>\n",
       "      <th>Comedy|Fantasy|Sci-Fi</th>\n",
       "      <td>1</td>\n",
       "      <td>4.500000</td>\n",
       "      <td>4.5</td>\n",
       "    </tr>\n",
       "    <tr>\n",
       "      <th>Adventure|Thriller</th>\n",
       "      <td>1</td>\n",
       "      <td>4.500000</td>\n",
       "      <td>4.5</td>\n",
       "    </tr>\n",
       "    <tr>\n",
       "      <th>Documentary</th>\n",
       "      <td>2</td>\n",
       "      <td>4.000000</td>\n",
       "      <td>5.0</td>\n",
       "    </tr>\n",
       "    <tr>\n",
       "      <th>Action|Comedy|Crime|Horror</th>\n",
       "      <td>1</td>\n",
       "      <td>4.000000</td>\n",
       "      <td>4.0</td>\n",
       "    </tr>\n",
       "    <tr>\n",
       "      <th>Action|Crime|Drama|Thriller</th>\n",
       "      <td>1</td>\n",
       "      <td>4.000000</td>\n",
       "      <td>4.0</td>\n",
       "    </tr>\n",
       "    <tr>\n",
       "      <th>Action|Adventure|Sci-Fi</th>\n",
       "      <td>14</td>\n",
       "      <td>3.928571</td>\n",
       "      <td>5.0</td>\n",
       "    </tr>\n",
       "    <tr>\n",
       "      <th>Action|Adventure|Children|Sci-Fi</th>\n",
       "      <td>5</td>\n",
       "      <td>3.900000</td>\n",
       "      <td>5.0</td>\n",
       "    </tr>\n",
       "    <tr>\n",
       "      <th>Action|Comedy|Sci-Fi</th>\n",
       "      <td>12</td>\n",
       "      <td>3.875000</td>\n",
       "      <td>5.0</td>\n",
       "    </tr>\n",
       "    <tr>\n",
       "      <th>Adventure|Mystery|Sci-Fi|Thriller</th>\n",
       "      <td>3</td>\n",
       "      <td>3.833333</td>\n",
       "      <td>4.0</td>\n",
       "    </tr>\n",
       "    <tr>\n",
       "      <th>Action|Adventure|Thriller</th>\n",
       "      <td>2</td>\n",
       "      <td>3.750000</td>\n",
       "      <td>4.0</td>\n",
       "    </tr>\n",
       "    <tr>\n",
       "      <th>Action|Adventure|Comedy|Fantasy|Sci-Fi</th>\n",
       "      <td>3</td>\n",
       "      <td>3.666667</td>\n",
       "      <td>4.0</td>\n",
       "    </tr>\n",
       "    <tr>\n",
       "      <th>Horror|Mystery|Thriller</th>\n",
       "      <td>1</td>\n",
       "      <td>3.500000</td>\n",
       "      <td>3.5</td>\n",
       "    </tr>\n",
       "    <tr>\n",
       "      <th>Crime|Drama</th>\n",
       "      <td>1</td>\n",
       "      <td>3.500000</td>\n",
       "      <td>3.5</td>\n",
       "    </tr>\n",
       "    <tr>\n",
       "      <th>Animation|Comedy</th>\n",
       "      <td>5</td>\n",
       "      <td>3.500000</td>\n",
       "      <td>5.0</td>\n",
       "    </tr>\n",
       "    <tr>\n",
       "      <th>Sci-Fi|Thriller</th>\n",
       "      <td>1</td>\n",
       "      <td>3.500000</td>\n",
       "      <td>3.5</td>\n",
       "    </tr>\n",
       "    <tr>\n",
       "      <th>Action|Mystery|Sci-Fi|Thriller</th>\n",
       "      <td>1</td>\n",
       "      <td>3.500000</td>\n",
       "      <td>3.5</td>\n",
       "    </tr>\n",
       "    <tr>\n",
       "      <th>Action|Animation</th>\n",
       "      <td>1</td>\n",
       "      <td>3.500000</td>\n",
       "      <td>3.5</td>\n",
       "    </tr>\n",
       "    <tr>\n",
       "      <th>Comedy</th>\n",
       "      <td>8</td>\n",
       "      <td>3.312500</td>\n",
       "      <td>4.5</td>\n",
       "    </tr>\n",
       "    <tr>\n",
       "      <th>Comedy|Drama</th>\n",
       "      <td>2</td>\n",
       "      <td>3.250000</td>\n",
       "      <td>4.0</td>\n",
       "    </tr>\n",
       "    <tr>\n",
       "      <th>Action|Adventure|Drama|Sci-Fi|Thriller</th>\n",
       "      <td>2</td>\n",
       "      <td>3.250000</td>\n",
       "      <td>4.0</td>\n",
       "    </tr>\n",
       "    <tr>\n",
       "      <th>Adventure|Children|Fantasy|Sci-Fi</th>\n",
       "      <td>1</td>\n",
       "      <td>3.000000</td>\n",
       "      <td>3.0</td>\n",
       "    </tr>\n",
       "    <tr>\n",
       "      <th>Action|Comedy</th>\n",
       "      <td>1</td>\n",
       "      <td>3.000000</td>\n",
       "      <td>3.0</td>\n",
       "    </tr>\n",
       "    <tr>\n",
       "      <th>Action|Adventure|Animation|Children</th>\n",
       "      <td>4</td>\n",
       "      <td>3.000000</td>\n",
       "      <td>4.0</td>\n",
       "    </tr>\n",
       "    <tr>\n",
       "      <th>Action|Fantasy|Sci-Fi</th>\n",
       "      <td>2</td>\n",
       "      <td>2.750000</td>\n",
       "      <td>3.0</td>\n",
       "    </tr>\n",
       "    <tr>\n",
       "      <th>Drama|Horror|Thriller</th>\n",
       "      <td>4</td>\n",
       "      <td>2.750000</td>\n",
       "      <td>4.5</td>\n",
       "    </tr>\n",
       "    <tr>\n",
       "      <th>Comedy|Crime|Drama</th>\n",
       "      <td>1</td>\n",
       "      <td>2.500000</td>\n",
       "      <td>2.5</td>\n",
       "    </tr>\n",
       "    <tr>\n",
       "      <th>Action|Crime|Thriller</th>\n",
       "      <td>1</td>\n",
       "      <td>2.500000</td>\n",
       "      <td>2.5</td>\n",
       "    </tr>\n",
       "    <tr>\n",
       "      <th>Action|Adventure|Fantasy</th>\n",
       "      <td>4</td>\n",
       "      <td>2.500000</td>\n",
       "      <td>3.5</td>\n",
       "    </tr>\n",
       "    <tr>\n",
       "      <th>Horror|Mystery|Sci-Fi|Thriller</th>\n",
       "      <td>2</td>\n",
       "      <td>2.250000</td>\n",
       "      <td>4.0</td>\n",
       "    </tr>\n",
       "    <tr>\n",
       "      <th>Drama|Fantasy|Thriller</th>\n",
       "      <td>1</td>\n",
       "      <td>2.000000</td>\n",
       "      <td>2.0</td>\n",
       "    </tr>\n",
       "    <tr>\n",
       "      <th>Crime|Drama|Mystery|Thriller</th>\n",
       "      <td>1</td>\n",
       "      <td>1.500000</td>\n",
       "      <td>1.5</td>\n",
       "    </tr>\n",
       "  </tbody>\n",
       "</table>\n",
       "</div>"
      ],
      "text/plain": [
       "                                        count      mean  max\n",
       "genres                                                      \n",
       "Adventure|Comedy|Fantasy                    1  4.500000  4.5\n",
       "Comedy|Romance                              1  4.500000  4.5\n",
       "Comedy|Fantasy|Sci-Fi                       1  4.500000  4.5\n",
       "Adventure|Thriller                          1  4.500000  4.5\n",
       "Documentary                                 2  4.000000  5.0\n",
       "Action|Comedy|Crime|Horror                  1  4.000000  4.0\n",
       "Action|Crime|Drama|Thriller                 1  4.000000  4.0\n",
       "Action|Adventure|Sci-Fi                    14  3.928571  5.0\n",
       "Action|Adventure|Children|Sci-Fi            5  3.900000  5.0\n",
       "Action|Comedy|Sci-Fi                       12  3.875000  5.0\n",
       "Adventure|Mystery|Sci-Fi|Thriller           3  3.833333  4.0\n",
       "Action|Adventure|Thriller                   2  3.750000  4.0\n",
       "Action|Adventure|Comedy|Fantasy|Sci-Fi      3  3.666667  4.0\n",
       "Horror|Mystery|Thriller                     1  3.500000  3.5\n",
       "Crime|Drama                                 1  3.500000  3.5\n",
       "Animation|Comedy                            5  3.500000  5.0\n",
       "Sci-Fi|Thriller                             1  3.500000  3.5\n",
       "Action|Mystery|Sci-Fi|Thriller              1  3.500000  3.5\n",
       "Action|Animation                            1  3.500000  3.5\n",
       "Comedy                                      8  3.312500  4.5\n",
       "Comedy|Drama                                2  3.250000  4.0\n",
       "Action|Adventure|Drama|Sci-Fi|Thriller      2  3.250000  4.0\n",
       "Adventure|Children|Fantasy|Sci-Fi           1  3.000000  3.0\n",
       "Action|Comedy                               1  3.000000  3.0\n",
       "Action|Adventure|Animation|Children         4  3.000000  4.0\n",
       "Action|Fantasy|Sci-Fi                       2  2.750000  3.0\n",
       "Drama|Horror|Thriller                       4  2.750000  4.5\n",
       "Comedy|Crime|Drama                          1  2.500000  2.5\n",
       "Action|Crime|Thriller                       1  2.500000  2.5\n",
       "Action|Adventure|Fantasy                    4  2.500000  3.5\n",
       "Horror|Mystery|Sci-Fi|Thriller              2  2.250000  4.0\n",
       "Drama|Fantasy|Thriller                      1  2.000000  2.0\n",
       "Crime|Drama|Mystery|Thriller                1  1.500000  1.5"
      ]
     },
     "execution_count": 72,
     "metadata": {},
     "output_type": "execute_result"
    }
   ],
   "source": [
    "mask3 = ratings_movies['year_release'] == 2018\n",
    "mask4 = ratings_movies['rating'].count() > 10\n",
    "\n",
    "ratings_movies[mask3&mask4].groupby('genres')['rating'].agg(\n",
    "    ['count', 'mean', 'max']\n",
    ").sort_values(by='mean', ascending=False)"
   ]
  },
  {
   "cell_type": "markdown",
   "metadata": {},
   "source": [
    "Задание 8.7\n",
    "1 point possible (graded)\n",
    "Добавьте в таблицу новый признак year_rating — год выставления оценки. Создайте сводную таблицу, которая иллюстрирует зависимость среднего рейтинга фильма от года выставления оценки и жанра. Выберите верные варианты ответа, исходя из построенной таблицы:"
   ]
  },
  {
   "cell_type": "code",
   "execution_count": 73,
   "metadata": {},
   "outputs": [],
   "source": [
    "ratings_movies['date'] = pd.to_datetime(ratings_movies['date'])\n",
    "\n",
    "ratings_movies['year_rating'] = ratings_movies['date'].dt.year"
   ]
  },
  {
   "cell_type": "markdown",
   "metadata": {},
   "source": [
    "За весь период (с 1996 по 2018 год) сочетание жанров Action|Adventure ни разу не получало среднюю оценку ниже 3."
   ]
  },
  {
   "cell_type": "code",
   "execution_count": 74,
   "metadata": {},
   "outputs": [
    {
     "data": {
      "text/plain": [
       "year_rating  genres                                           rating\n",
       "1996         Action                                           2.0       6\n",
       "                                                              1.0       3\n",
       "             Action|Adventure                                 1.0       1\n",
       "             Action|Adventure|Children|Comedy|Fantasy|Sci-Fi  2.0       1\n",
       "                                                              1.0       1\n",
       "                                                                       ..\n",
       "2018         Thriller                                         2.5       4\n",
       "                                                              0.5       1\n",
       "                                                              1.0       1\n",
       "                                                              1.5       1\n",
       "             Western                                          2.0       1\n",
       "Name: count, Length: 8330, dtype: int64"
      ]
     },
     "execution_count": 74,
     "metadata": {},
     "output_type": "execute_result"
    }
   ],
   "source": [
    "mask5 = ratings_movies['year_rating'] >= 1996 \n",
    "mask6 = ratings_movies['year_rating'] <= 2018\n",
    "mask7 = ratings_movies['rating'] < 3\n",
    "\n",
    "ratings_movies[mask5&mask6&mask7].groupby(['year_rating', 'genres'])['rating'].value_counts()\n",
    "# Action|Adventure                                 1.0       1"
   ]
  },
  {
   "cell_type": "markdown",
   "metadata": {},
   "source": [
    "За весь период (с 1996 по 2018 год) сочетание жанров Action|Adventure ни разу не получало среднюю оценку ниже 3."
   ]
  },
  {
   "cell_type": "markdown",
   "metadata": {},
   "source": [
    "Наилучшую оценку жанр Action|Adventure|Animation|Children|Comedy|IMAX получил в 2010 году."
   ]
  },
  {
   "cell_type": "code",
   "execution_count": 84,
   "metadata": {},
   "outputs": [
    {
     "data": {
      "text/html": [
       "<div>\n",
       "<style scoped>\n",
       "    .dataframe tbody tr th:only-of-type {\n",
       "        vertical-align: middle;\n",
       "    }\n",
       "\n",
       "    .dataframe tbody tr th {\n",
       "        vertical-align: top;\n",
       "    }\n",
       "\n",
       "    .dataframe thead th {\n",
       "        text-align: right;\n",
       "    }\n",
       "</style>\n",
       "<table border=\"1\" class=\"dataframe\">\n",
       "  <thead>\n",
       "    <tr style=\"text-align: right;\">\n",
       "      <th></th>\n",
       "      <th></th>\n",
       "      <th>count</th>\n",
       "      <th>mean</th>\n",
       "      <th>max</th>\n",
       "    </tr>\n",
       "    <tr>\n",
       "      <th>year_rating</th>\n",
       "      <th>genres</th>\n",
       "      <th></th>\n",
       "      <th></th>\n",
       "      <th></th>\n",
       "    </tr>\n",
       "  </thead>\n",
       "  <tbody>\n",
       "    <tr>\n",
       "      <th>2012</th>\n",
       "      <th>Action|Adventure|Animation|Children|Comedy|IMAX</th>\n",
       "      <td>10</td>\n",
       "      <td>3.550000</td>\n",
       "      <td>5.0</td>\n",
       "    </tr>\n",
       "    <tr>\n",
       "      <th>2013</th>\n",
       "      <th>Action|Adventure|Animation|Children|Comedy|IMAX</th>\n",
       "      <td>1</td>\n",
       "      <td>5.000000</td>\n",
       "      <td>5.0</td>\n",
       "    </tr>\n",
       "    <tr>\n",
       "      <th>2018</th>\n",
       "      <th>Action|Adventure|Animation|Children|Comedy|IMAX</th>\n",
       "      <td>5</td>\n",
       "      <td>3.700000</td>\n",
       "      <td>5.0</td>\n",
       "    </tr>\n",
       "    <tr>\n",
       "      <th>2015</th>\n",
       "      <th>Action|Adventure|Animation|Children|Comedy|IMAX</th>\n",
       "      <td>4</td>\n",
       "      <td>3.375000</td>\n",
       "      <td>4.0</td>\n",
       "    </tr>\n",
       "    <tr>\n",
       "      <th>2016</th>\n",
       "      <th>Action|Adventure|Animation|Children|Comedy|IMAX</th>\n",
       "      <td>3</td>\n",
       "      <td>3.666667</td>\n",
       "      <td>4.0</td>\n",
       "    </tr>\n",
       "    <tr>\n",
       "      <th>2009</th>\n",
       "      <th>Action|Adventure|Animation|Children|Comedy|IMAX</th>\n",
       "      <td>4</td>\n",
       "      <td>3.250000</td>\n",
       "      <td>3.5</td>\n",
       "    </tr>\n",
       "    <tr>\n",
       "      <th>2010</th>\n",
       "      <th>Action|Adventure|Animation|Children|Comedy|IMAX</th>\n",
       "      <td>1</td>\n",
       "      <td>3.500000</td>\n",
       "      <td>3.5</td>\n",
       "    </tr>\n",
       "    <tr>\n",
       "      <th>2014</th>\n",
       "      <th>Action|Adventure|Animation|Children|Comedy|IMAX</th>\n",
       "      <td>1</td>\n",
       "      <td>3.500000</td>\n",
       "      <td>3.5</td>\n",
       "    </tr>\n",
       "    <tr>\n",
       "      <th>2017</th>\n",
       "      <th>Action|Adventure|Animation|Children|Comedy|IMAX</th>\n",
       "      <td>1</td>\n",
       "      <td>1.000000</td>\n",
       "      <td>1.0</td>\n",
       "    </tr>\n",
       "  </tbody>\n",
       "</table>\n",
       "</div>"
      ],
      "text/plain": [
       "                                                             count      mean  \\\n",
       "year_rating genres                                                             \n",
       "2012        Action|Adventure|Animation|Children|Comedy|IMAX     10  3.550000   \n",
       "2013        Action|Adventure|Animation|Children|Comedy|IMAX      1  5.000000   \n",
       "2018        Action|Adventure|Animation|Children|Comedy|IMAX      5  3.700000   \n",
       "2015        Action|Adventure|Animation|Children|Comedy|IMAX      4  3.375000   \n",
       "2016        Action|Adventure|Animation|Children|Comedy|IMAX      3  3.666667   \n",
       "2009        Action|Adventure|Animation|Children|Comedy|IMAX      4  3.250000   \n",
       "2010        Action|Adventure|Animation|Children|Comedy|IMAX      1  3.500000   \n",
       "2014        Action|Adventure|Animation|Children|Comedy|IMAX      1  3.500000   \n",
       "2017        Action|Adventure|Animation|Children|Comedy|IMAX      1  1.000000   \n",
       "\n",
       "                                                             max  \n",
       "year_rating genres                                                \n",
       "2012        Action|Adventure|Animation|Children|Comedy|IMAX  5.0  \n",
       "2013        Action|Adventure|Animation|Children|Comedy|IMAX  5.0  \n",
       "2018        Action|Adventure|Animation|Children|Comedy|IMAX  5.0  \n",
       "2015        Action|Adventure|Animation|Children|Comedy|IMAX  4.0  \n",
       "2016        Action|Adventure|Animation|Children|Comedy|IMAX  4.0  \n",
       "2009        Action|Adventure|Animation|Children|Comedy|IMAX  3.5  \n",
       "2010        Action|Adventure|Animation|Children|Comedy|IMAX  3.5  \n",
       "2014        Action|Adventure|Animation|Children|Comedy|IMAX  3.5  \n",
       "2017        Action|Adventure|Animation|Children|Comedy|IMAX  1.0  "
      ]
     },
     "execution_count": 84,
     "metadata": {},
     "output_type": "execute_result"
    }
   ],
   "source": [
    "mask8 = ratings_movies['genres'] == 'Action|Adventure|Animation|Children|Comedy|IMAX'\n",
    "\n",
    "ratings_movies[mask8].groupby(['year_rating', 'genres'])['rating'].agg(\n",
    "    ['count', 'mean', 'max']\n",
    ").sort_values(by='max', ascending=False) # нет"
   ]
  },
  {
   "cell_type": "markdown",
   "metadata": {},
   "source": [
    "Среди сочетаний жанров, получивших наивысшую среднюю оценку в 2018 году, есть сочетание Animation|Children|Mystery."
   ]
  },
  {
   "cell_type": "code",
   "execution_count": 115,
   "metadata": {},
   "outputs": [
    {
     "data": {
      "text/plain": [
       "5.0"
      ]
     },
     "execution_count": 115,
     "metadata": {},
     "output_type": "execute_result"
    }
   ],
   "source": [
    "# mask9 = ratings_movies['genres'] == 'Animation|Children|Mystery'\n",
    "mask9 = ratings_movies['year_rating'] == 2018\n",
    "\n",
    "rat_mov = ratings_movies[mask9].groupby(['genres'])['rating'].mean().sort_values(ascending=False)\n",
    "rat_mov\n",
    "rat_mov['Animation|Children|Mystery']\n",
    "# rat_mov.info()"
   ]
  },
  {
   "cell_type": "markdown",
   "metadata": {},
   "source": [
    "Если обратиться к сводной таблице по индексу 2018 года и отсортировать результат по убыванию, то среди жанров, получивших наивысшую оценку, можно найти сочетание Animation|Children|Mystery"
   ]
  },
  {
   "cell_type": "markdown",
   "metadata": {},
   "source": [
    "Для жанра Comedy прослеживается тенденция падения рейтинга с каждым годом (с 1996 по 2018)."
   ]
  },
  {
   "cell_type": "code",
   "execution_count": null,
   "metadata": {},
   "outputs": [],
   "source": [
    "mask10 = ratings_movies['genres'] == 'Comedy'\n",
    "\n",
    "ratings_movies[mask10].groupby(['year_rating'])['rating'].agg(\n",
    "    ['mean', 'max']\n",
    ").sort_values(by='year_rating', ascending=True)"
   ]
  },
  {
   "cell_type": "markdown",
   "metadata": {},
   "source": [
    "Если обратиться к столбцу Comedy сводной таблицы и отследить динамику изменения оценок фильмов этого жанра, можно обнаружить, что рейтинг данного жанра не падает на протяжении заданного периода."
   ]
  }
 ],
 "metadata": {
  "kernelspec": {
   "display_name": "Python 3",
   "language": "python",
   "name": "python3"
  },
  "language_info": {
   "codemirror_mode": {
    "name": "ipython",
    "version": 3
   },
   "file_extension": ".py",
   "mimetype": "text/x-python",
   "name": "python",
   "nbconvert_exporter": "python",
   "pygments_lexer": "ipython3",
   "version": "3.9.10"
  },
  "orig_nbformat": 4
 },
 "nbformat": 4,
 "nbformat_minor": 2
}
