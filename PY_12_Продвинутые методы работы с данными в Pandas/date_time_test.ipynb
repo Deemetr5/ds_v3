{
 "cells": [
  {
   "cell_type": "markdown",
   "metadata": {},
   "source": [
    "Библиотека Pandas — это весьма эффективный инструмент для обработки данных, представляющих собой временные ряды. На самом деле, эта библиотека была создана Уэсом МакКинни для работы с финансовыми данными, которые состоят, главным образом, из временных рядов.\n",
    "\n",
    "При работе с временными рядами много сил уходит на выполнение различных операций с датой и временем. Этот материал посвящён ответам на четыре распространённых вопроса из данной сферы."
   ]
  },
  {
   "cell_type": "markdown",
   "metadata": {},
   "source": [
    "Возможно, вы уже сталкивались с этими вопросами. Ответить на все из них, кроме последнего, можно сравнительно просто. А вот ответ на последний, довольно-таки хитрый вопрос, представляет собой последовательность из нескольких действий.\n",
    "\n",
    "Начнём с создания учебного датафрейма (объекта DataFrame), с которым будем экспериментировать:"
   ]
  },
  {
   "cell_type": "code",
   "execution_count": 23,
   "metadata": {},
   "outputs": [],
   "source": [
    "import pandas as pd"
   ]
  },
  {
   "cell_type": "code",
   "execution_count": 24,
   "metadata": {},
   "outputs": [
    {
     "data": {
      "text/html": [
       "<div>\n",
       "<style scoped>\n",
       "    .dataframe tbody tr th:only-of-type {\n",
       "        vertical-align: middle;\n",
       "    }\n",
       "\n",
       "    .dataframe tbody tr th {\n",
       "        vertical-align: top;\n",
       "    }\n",
       "\n",
       "    .dataframe thead th {\n",
       "        text-align: right;\n",
       "    }\n",
       "</style>\n",
       "<table border=\"1\" class=\"dataframe\">\n",
       "  <thead>\n",
       "    <tr style=\"text-align: right;\">\n",
       "      <th></th>\n",
       "      <th>booking_id</th>\n",
       "      <th>property</th>\n",
       "      <th>created_at</th>\n",
       "      <th>checkin_date</th>\n",
       "      <th>checkout_date</th>\n",
       "      <th>amount</th>\n",
       "    </tr>\n",
       "  </thead>\n",
       "  <tbody>\n",
       "    <tr>\n",
       "      <th>0</th>\n",
       "      <td>1001</td>\n",
       "      <td>A</td>\n",
       "      <td>2022-03-01</td>\n",
       "      <td>2022-06-01</td>\n",
       "      <td>2022-06-06</td>\n",
       "      <td>5400</td>\n",
       "    </tr>\n",
       "    <tr>\n",
       "      <th>1</th>\n",
       "      <td>1002</td>\n",
       "      <td>A</td>\n",
       "      <td>2022-02-10</td>\n",
       "      <td>2022-06-10</td>\n",
       "      <td>2022-06-15</td>\n",
       "      <td>5600</td>\n",
       "    </tr>\n",
       "    <tr>\n",
       "      <th>2</th>\n",
       "      <td>1003</td>\n",
       "      <td>B</td>\n",
       "      <td>2022-04-12</td>\n",
       "      <td>2022-06-02</td>\n",
       "      <td>2022-06-06</td>\n",
       "      <td>4800</td>\n",
       "    </tr>\n",
       "    <tr>\n",
       "      <th>3</th>\n",
       "      <td>1004</td>\n",
       "      <td>B</td>\n",
       "      <td>2022-04-11</td>\n",
       "      <td>2022-06-20</td>\n",
       "      <td>2022-06-28</td>\n",
       "      <td>9000</td>\n",
       "    </tr>\n",
       "    <tr>\n",
       "      <th>4</th>\n",
       "      <td>1005</td>\n",
       "      <td>C</td>\n",
       "      <td>2022-06-05</td>\n",
       "      <td>2022-08-10</td>\n",
       "      <td>2022-08-16</td>\n",
       "      <td>6500</td>\n",
       "    </tr>\n",
       "  </tbody>\n",
       "</table>\n",
       "</div>"
      ],
      "text/plain": [
       "   booking_id property created_at checkin_date checkout_date  amount\n",
       "0        1001        A 2022-03-01   2022-06-01    2022-06-06    5400\n",
       "1        1002        A 2022-02-10   2022-06-10    2022-06-15    5600\n",
       "2        1003        B 2022-04-12   2022-06-02    2022-06-06    4800\n",
       "3        1004        B 2022-04-11   2022-06-20    2022-06-28    9000\n",
       "4        1005        C 2022-06-05   2022-08-10    2022-08-16    6500"
      ]
     },
     "execution_count": 24,
     "metadata": {},
     "output_type": "execute_result"
    }
   ],
   "source": [
    "df = pd.DataFrame({\n",
    "    \"booking_id\": [1001, 1002, 1003, 1004, 1005],\n",
    "    \"property\" : [\"A\", \"A\", \"B\", \"B\", \"C\"],\n",
    "    \"created_at\": [\"2022-03-01\", \"2022-02-10\", \"2022-04-12\",\n",
    "                   \"2022-04-11\", \"2022-06-05\"],\n",
    "    \"checkin_date\": [\"2022-06-01\", \"2022-06-10\", \"2022-06-02\",\n",
    "                     \"2022-06-20\", \"2022-08-10\"],\n",
    "    \"checkout_date\": [\"2022-06-06\", \"2022-06-15\", \n",
    "                      \"2022-06-06\",\"2022-06-28\", \"2022-08-16\"],\n",
    "    \"amount\": [5400, 5600, 4800, 9000, 6500]\n",
    "})\n",
    "# изменение типа данных \n",
    "date_cols = [\"created_at\",\"checkin_date\",\"checkout_date\"]\n",
    "df[date_cols] = df[date_cols].astype(\"datetime64[ns]\")\n",
    "# вывод объекта DataFrame\n",
    "df"
   ]
  },
  {
   "cell_type": "markdown",
   "metadata": {},
   "source": [
    "Для того чтобы у нас была бы возможность пользоваться функциями pandas, предназначенными для работы с датой и временем, даты в датафрейме должны быть представлены значениями подходящего типа данных. Именно по этой причине мы поменяли тип данных соответствующих столбцов на datetime64[ns]."
   ]
  },
  {
   "cell_type": "markdown",
   "metadata": {},
   "source": [
    "1. Как извлечь из даты информацию о месяце и годе?\n",
    "Дата содержит различные фрагменты информации, такие как год, день недели, месяц и так далее. Все эти фрагменты можно извлечь из даты с использованием методов, к которым обращаются через аксессор dt.\n",
    "\n",
    "Например, месяц можно получить с помощью метода month. А как получить сведения о годе и месяце в формате ГГГГ-ММ? Ответ на этот вопрос уже не так очевиден. Извлечь эти сведения из даты можно, прибегнув к методу to_period:"
   ]
  },
  {
   "cell_type": "code",
   "execution_count": 25,
   "metadata": {},
   "outputs": [
    {
     "data": {
      "text/html": [
       "<div>\n",
       "<style scoped>\n",
       "    .dataframe tbody tr th:only-of-type {\n",
       "        vertical-align: middle;\n",
       "    }\n",
       "\n",
       "    .dataframe tbody tr th {\n",
       "        vertical-align: top;\n",
       "    }\n",
       "\n",
       "    .dataframe thead th {\n",
       "        text-align: right;\n",
       "    }\n",
       "</style>\n",
       "<table border=\"1\" class=\"dataframe\">\n",
       "  <thead>\n",
       "    <tr style=\"text-align: right;\">\n",
       "      <th></th>\n",
       "      <th>booking_id</th>\n",
       "      <th>property</th>\n",
       "      <th>created_at</th>\n",
       "      <th>checkin_date</th>\n",
       "      <th>checkout_date</th>\n",
       "      <th>amount</th>\n",
       "      <th>year_month</th>\n",
       "    </tr>\n",
       "  </thead>\n",
       "  <tbody>\n",
       "    <tr>\n",
       "      <th>0</th>\n",
       "      <td>1001</td>\n",
       "      <td>A</td>\n",
       "      <td>2022-03-01</td>\n",
       "      <td>2022-06-01</td>\n",
       "      <td>2022-06-06</td>\n",
       "      <td>5400</td>\n",
       "      <td>2022-03</td>\n",
       "    </tr>\n",
       "    <tr>\n",
       "      <th>1</th>\n",
       "      <td>1002</td>\n",
       "      <td>A</td>\n",
       "      <td>2022-02-10</td>\n",
       "      <td>2022-06-10</td>\n",
       "      <td>2022-06-15</td>\n",
       "      <td>5600</td>\n",
       "      <td>2022-02</td>\n",
       "    </tr>\n",
       "    <tr>\n",
       "      <th>2</th>\n",
       "      <td>1003</td>\n",
       "      <td>B</td>\n",
       "      <td>2022-04-12</td>\n",
       "      <td>2022-06-02</td>\n",
       "      <td>2022-06-06</td>\n",
       "      <td>4800</td>\n",
       "      <td>2022-04</td>\n",
       "    </tr>\n",
       "    <tr>\n",
       "      <th>3</th>\n",
       "      <td>1004</td>\n",
       "      <td>B</td>\n",
       "      <td>2022-04-11</td>\n",
       "      <td>2022-06-20</td>\n",
       "      <td>2022-06-28</td>\n",
       "      <td>9000</td>\n",
       "      <td>2022-04</td>\n",
       "    </tr>\n",
       "    <tr>\n",
       "      <th>4</th>\n",
       "      <td>1005</td>\n",
       "      <td>C</td>\n",
       "      <td>2022-06-05</td>\n",
       "      <td>2022-08-10</td>\n",
       "      <td>2022-08-16</td>\n",
       "      <td>6500</td>\n",
       "      <td>2022-06</td>\n",
       "    </tr>\n",
       "  </tbody>\n",
       "</table>\n",
       "</div>"
      ],
      "text/plain": [
       "   booking_id property created_at checkin_date checkout_date  amount  \\\n",
       "0        1001        A 2022-03-01   2022-06-01    2022-06-06    5400   \n",
       "1        1002        A 2022-02-10   2022-06-10    2022-06-15    5600   \n",
       "2        1003        B 2022-04-12   2022-06-02    2022-06-06    4800   \n",
       "3        1004        B 2022-04-11   2022-06-20    2022-06-28    9000   \n",
       "4        1005        C 2022-06-05   2022-08-10    2022-08-16    6500   \n",
       "\n",
       "  year_month  \n",
       "0    2022-03  \n",
       "1    2022-02  \n",
       "2    2022-04  \n",
       "3    2022-04  \n",
       "4    2022-06  "
      ]
     },
     "execution_count": 25,
     "metadata": {},
     "output_type": "execute_result"
    }
   ],
   "source": [
    "# создание столбца year_month\n",
    "df[\"year_month\"] = df[\"created_at\"].dt.to_period(\"M\")\n",
    "# вывод объекта DataFrame\n",
    "df"
   ]
  },
  {
   "cell_type": "markdown",
   "metadata": {},
   "source": [
    "Как прибавить к дате временной интервал?\n",
    "Прибавление к датам временных интервалов или вычитание их из дат — это одна из операций, часто встречающихся при работе с датами. Выполнить её можно, воспользовавшись функцией DateOffset.\n",
    "\n",
    "Добавим 1 день к дате выселения (например — из некоего объекта недвижимости) (checkout_date) для записи о бронировании с идентификатором 1001:"
   ]
  },
  {
   "cell_type": "code",
   "execution_count": 26,
   "metadata": {},
   "outputs": [
    {
     "name": "stdout",
     "output_type": "stream",
     "text": [
      "0   2022-06-07\n",
      "Name: checkout_date, dtype: datetime64[ns]\n"
     ]
    }
   ],
   "source": [
    "df.loc[df[\"booking_id\"]==1001, \"checkout_date\"] = \\\n",
    "df.loc[df[\"booking_id\"]==1001, \"checkout_date\"] + \\\n",
    "pd.DateOffset(days=1)\n",
    "# проверка результата\n",
    "print(df.loc[df[\"booking_id\"]==1001, \"checkout_date\"])\n",
    "# вывод 0   2022-06-07\n",
    "# Name: checkout_date, dtype: datetime64[ns]"
   ]
  },
  {
   "cell_type": "markdown",
   "metadata": {},
   "source": [
    "3. Как найти интервал в днях между двумя датами?\n",
    "Интервал между двумя датами можно найти, вычтя одну из другой. Результатом этой операции будет объект Timedelta, а это не совсем то, что нам нужно:"
   ]
  },
  {
   "cell_type": "code",
   "execution_count": 27,
   "metadata": {},
   "outputs": [
    {
     "data": {
      "text/plain": [
       "Timedelta('6 days 00:00:00')"
      ]
     },
     "execution_count": 27,
     "metadata": {},
     "output_type": "execute_result"
    }
   ],
   "source": [
    "df[\"checkout_date\"][0] - df[\"checkin_date\"][0]\n",
    "# вывод Timedelta('6 days 00:00:00')"
   ]
  },
  {
   "cell_type": "markdown",
   "metadata": {},
   "source": [
    "Получить разницу между датами в днях, в виде целого числа, можно, воспользовавшись атрибутом days. Создадим столбец, который выводит разницу в днях между датой вселения (checkin_date) и датой создания бронирования (created_at):"
   ]
  },
  {
   "cell_type": "code",
   "execution_count": 28,
   "metadata": {},
   "outputs": [
    {
     "data": {
      "text/html": [
       "<div>\n",
       "<style scoped>\n",
       "    .dataframe tbody tr th:only-of-type {\n",
       "        vertical-align: middle;\n",
       "    }\n",
       "\n",
       "    .dataframe tbody tr th {\n",
       "        vertical-align: top;\n",
       "    }\n",
       "\n",
       "    .dataframe thead th {\n",
       "        text-align: right;\n",
       "    }\n",
       "</style>\n",
       "<table border=\"1\" class=\"dataframe\">\n",
       "  <thead>\n",
       "    <tr style=\"text-align: right;\">\n",
       "      <th></th>\n",
       "      <th>booking_id</th>\n",
       "      <th>property</th>\n",
       "      <th>created_at</th>\n",
       "      <th>checkin_date</th>\n",
       "      <th>checkout_date</th>\n",
       "      <th>amount</th>\n",
       "      <th>year_month</th>\n",
       "      <th>days_to_checkin</th>\n",
       "    </tr>\n",
       "  </thead>\n",
       "  <tbody>\n",
       "    <tr>\n",
       "      <th>0</th>\n",
       "      <td>1001</td>\n",
       "      <td>A</td>\n",
       "      <td>2022-03-01</td>\n",
       "      <td>2022-06-01</td>\n",
       "      <td>2022-06-07</td>\n",
       "      <td>5400</td>\n",
       "      <td>2022-03</td>\n",
       "      <td>92</td>\n",
       "    </tr>\n",
       "    <tr>\n",
       "      <th>1</th>\n",
       "      <td>1002</td>\n",
       "      <td>A</td>\n",
       "      <td>2022-02-10</td>\n",
       "      <td>2022-06-10</td>\n",
       "      <td>2022-06-15</td>\n",
       "      <td>5600</td>\n",
       "      <td>2022-02</td>\n",
       "      <td>120</td>\n",
       "    </tr>\n",
       "    <tr>\n",
       "      <th>2</th>\n",
       "      <td>1003</td>\n",
       "      <td>B</td>\n",
       "      <td>2022-04-12</td>\n",
       "      <td>2022-06-02</td>\n",
       "      <td>2022-06-06</td>\n",
       "      <td>4800</td>\n",
       "      <td>2022-04</td>\n",
       "      <td>51</td>\n",
       "    </tr>\n",
       "    <tr>\n",
       "      <th>3</th>\n",
       "      <td>1004</td>\n",
       "      <td>B</td>\n",
       "      <td>2022-04-11</td>\n",
       "      <td>2022-06-20</td>\n",
       "      <td>2022-06-28</td>\n",
       "      <td>9000</td>\n",
       "      <td>2022-04</td>\n",
       "      <td>70</td>\n",
       "    </tr>\n",
       "    <tr>\n",
       "      <th>4</th>\n",
       "      <td>1005</td>\n",
       "      <td>C</td>\n",
       "      <td>2022-06-05</td>\n",
       "      <td>2022-08-10</td>\n",
       "      <td>2022-08-16</td>\n",
       "      <td>6500</td>\n",
       "      <td>2022-06</td>\n",
       "      <td>66</td>\n",
       "    </tr>\n",
       "  </tbody>\n",
       "</table>\n",
       "</div>"
      ],
      "text/plain": [
       "   booking_id property created_at checkin_date checkout_date  amount  \\\n",
       "0        1001        A 2022-03-01   2022-06-01    2022-06-07    5400   \n",
       "1        1002        A 2022-02-10   2022-06-10    2022-06-15    5600   \n",
       "2        1003        B 2022-04-12   2022-06-02    2022-06-06    4800   \n",
       "3        1004        B 2022-04-11   2022-06-20    2022-06-28    9000   \n",
       "4        1005        C 2022-06-05   2022-08-10    2022-08-16    6500   \n",
       "\n",
       "  year_month  days_to_checkin  \n",
       "0    2022-03               92  \n",
       "1    2022-02              120  \n",
       "2    2022-04               51  \n",
       "3    2022-04               70  \n",
       "4    2022-06               66  "
      ]
     },
     "execution_count": 28,
     "metadata": {},
     "output_type": "execute_result"
    }
   ],
   "source": [
    "# разница, выраженная в днях\n",
    "df[\"days_to_checkin\"] = \\\n",
    "(df[\"checkin_date\"] - df[\"created_at\"]).dt.days\n",
    "# вывод объекта DataFrame\n",
    "df"
   ]
  },
  {
   "cell_type": "markdown",
   "metadata": {},
   "source": [
    "4. Как сформировать последовательность дат между начальной и конечной датами?\n",
    "Предположим, нам нужен календарь, который показывает дни, в которые объект недвижимости забронирован. Сейчас в первой строке датафрейма есть запись о том, что объект недвижимости A забронирован с 2022–06–01 по 2022–06–07. Получается, что объект A забронирован на даты 2022–06–01, 2022–06–02, 2022–06–03, 2022–06–04, 2022–06–05, 2022–06–06 (если предположить, что постоялец выселяется в 10 утра 2022–06–07).\n",
    "\n",
    "Такой календарь можно создать, найдя даты между датами вселения и выселения и внеся их в объект DataFrame.\n",
    "\n",
    "Для начала создадим датафрейм calendar, содержащий столбцы property, checkin_date и checkout_date:"
   ]
  },
  {
   "cell_type": "code",
   "execution_count": 29,
   "metadata": {},
   "outputs": [],
   "source": [
    "# создание объекта DataFrame calendar\n",
    "calendar = df[[\"property\",\"checkin_date\",\"checkout_date\"]]"
   ]
  },
  {
   "cell_type": "markdown",
   "metadata": {},
   "source": [
    "Функция date_range даёт нам даты, находящиеся между начальной и конечной датами. Вот что получится для первой записи о бронировании:"
   ]
  },
  {
   "cell_type": "code",
   "execution_count": 30,
   "metadata": {},
   "outputs": [
    {
     "data": {
      "text/plain": [
       "DatetimeIndex(['2022-06-01', '2022-06-02', '2022-06-03', '2022-06-04',\n",
       "               '2022-06-05', '2022-06-06', '2022-06-07'],\n",
       "              dtype='datetime64[ns]', freq='D')"
      ]
     },
     "execution_count": 30,
     "metadata": {},
     "output_type": "execute_result"
    }
   ],
   "source": [
    "pd.date_range(calendar[\"checkin_date\"][0], calendar[\"checkout_date\"][0])\n",
    "# вывод DatetimeIndex(['2022-06-01', '2022-06-02', '2022-06-03', \n",
    "#               '2022-06-04', '2022-06-05', '2022-06-06', \n",
    "#              '2022-06-07'],\n",
    "#              dtype='datetime64[ns]', freq='D')"
   ]
  },
  {
   "cell_type": "markdown",
   "metadata": {},
   "source": [
    "Тут есть одна проблема: нам не нужно, чтобы дата выселения (checkout_date) была бы показана как дата, когда объект недвижимости забронирован. Поэтому мы, прежде чем находить диапазон дат, вычтем 1 из даты выселения.\n",
    "\n",
    "Для того чтобы сделать это для всех строк, нужно воспользоваться функцией apply. Мы, кроме того, конвертируем вывод функции date_range в список, воспользовавшись конструктором list:"
   ]
  },
  {
   "cell_type": "code",
   "execution_count": 31,
   "metadata": {},
   "outputs": [
    {
     "name": "stderr",
     "output_type": "stream",
     "text": [
      "C:\\Users\\R5\\AppData\\Local\\Temp\\ipykernel_14504\\2349268788.py:2: SettingWithCopyWarning: \n",
      "A value is trying to be set on a copy of a slice from a DataFrame.\n",
      "Try using .loc[row_indexer,col_indexer] = value instead\n",
      "\n",
      "See the caveats in the documentation: https://pandas.pydata.org/pandas-docs/stable/user_guide/indexing.html#returning-a-view-versus-a-copy\n",
      "  calendar.loc[:, \"booked_days\"] = calendar.apply(\n"
     ]
    },
    {
     "data": {
      "text/html": [
       "<div>\n",
       "<style scoped>\n",
       "    .dataframe tbody tr th:only-of-type {\n",
       "        vertical-align: middle;\n",
       "    }\n",
       "\n",
       "    .dataframe tbody tr th {\n",
       "        vertical-align: top;\n",
       "    }\n",
       "\n",
       "    .dataframe thead th {\n",
       "        text-align: right;\n",
       "    }\n",
       "</style>\n",
       "<table border=\"1\" class=\"dataframe\">\n",
       "  <thead>\n",
       "    <tr style=\"text-align: right;\">\n",
       "      <th></th>\n",
       "      <th>property</th>\n",
       "      <th>checkin_date</th>\n",
       "      <th>checkout_date</th>\n",
       "      <th>booked_days</th>\n",
       "    </tr>\n",
       "  </thead>\n",
       "  <tbody>\n",
       "    <tr>\n",
       "      <th>0</th>\n",
       "      <td>A</td>\n",
       "      <td>2022-06-01</td>\n",
       "      <td>2022-06-07</td>\n",
       "      <td>[2022-06-01, 2022-06-02, 2022-06-03, 2022-06-0...</td>\n",
       "    </tr>\n",
       "    <tr>\n",
       "      <th>1</th>\n",
       "      <td>A</td>\n",
       "      <td>2022-06-10</td>\n",
       "      <td>2022-06-15</td>\n",
       "      <td>[2022-06-10, 2022-06-11, 2022-06-12, 2022-06-1...</td>\n",
       "    </tr>\n",
       "    <tr>\n",
       "      <th>2</th>\n",
       "      <td>B</td>\n",
       "      <td>2022-06-02</td>\n",
       "      <td>2022-06-06</td>\n",
       "      <td>[2022-06-02, 2022-06-03, 2022-06-04, 2022-06-05]</td>\n",
       "    </tr>\n",
       "    <tr>\n",
       "      <th>3</th>\n",
       "      <td>B</td>\n",
       "      <td>2022-06-20</td>\n",
       "      <td>2022-06-28</td>\n",
       "      <td>[2022-06-20, 2022-06-21, 2022-06-22, 2022-06-2...</td>\n",
       "    </tr>\n",
       "    <tr>\n",
       "      <th>4</th>\n",
       "      <td>C</td>\n",
       "      <td>2022-08-10</td>\n",
       "      <td>2022-08-16</td>\n",
       "      <td>[2022-08-10, 2022-08-11, 2022-08-12, 2022-08-1...</td>\n",
       "    </tr>\n",
       "  </tbody>\n",
       "</table>\n",
       "</div>"
      ],
      "text/plain": [
       "  property checkin_date checkout_date  \\\n",
       "0        A   2022-06-01    2022-06-07   \n",
       "1        A   2022-06-10    2022-06-15   \n",
       "2        B   2022-06-02    2022-06-06   \n",
       "3        B   2022-06-20    2022-06-28   \n",
       "4        C   2022-08-10    2022-08-16   \n",
       "\n",
       "                                         booked_days  \n",
       "0  [2022-06-01, 2022-06-02, 2022-06-03, 2022-06-0...  \n",
       "1  [2022-06-10, 2022-06-11, 2022-06-12, 2022-06-1...  \n",
       "2   [2022-06-02, 2022-06-03, 2022-06-04, 2022-06-05]  \n",
       "3  [2022-06-20, 2022-06-21, 2022-06-22, 2022-06-2...  \n",
       "4  [2022-08-10, 2022-08-11, 2022-08-12, 2022-08-1...  "
      ]
     },
     "execution_count": 31,
     "metadata": {},
     "output_type": "execute_result"
    }
   ],
   "source": [
    "# создание столбца booked_days\n",
    "calendar.loc[:, \"booked_days\"] = calendar.apply(\n",
    "    \n",
    "    lambda x: list(\n",
    "        pd.date_range(\n",
    "            x.checkin_date, \n",
    "            x.checkout_date - pd.DateOffset(days=1)\n",
    "        ).date\n",
    "    ),\n",
    "    axis = 1    \n",
    ")\n",
    "# вывод объекта DataFrame\n",
    "calendar"
   ]
  },
  {
   "cell_type": "markdown",
   "metadata": {},
   "source": [
    "Далее — нам нужно заполнить датафрейм, развернув даты из столбца booked_days. В этом нам поможет функция explode:"
   ]
  },
  {
   "cell_type": "code",
   "execution_count": 32,
   "metadata": {},
   "outputs": [
    {
     "data": {
      "text/html": [
       "<div>\n",
       "<style scoped>\n",
       "    .dataframe tbody tr th:only-of-type {\n",
       "        vertical-align: middle;\n",
       "    }\n",
       "\n",
       "    .dataframe tbody tr th {\n",
       "        vertical-align: top;\n",
       "    }\n",
       "\n",
       "    .dataframe thead th {\n",
       "        text-align: right;\n",
       "    }\n",
       "</style>\n",
       "<table border=\"1\" class=\"dataframe\">\n",
       "  <thead>\n",
       "    <tr style=\"text-align: right;\">\n",
       "      <th></th>\n",
       "      <th>property</th>\n",
       "      <th>booked_days</th>\n",
       "    </tr>\n",
       "  </thead>\n",
       "  <tbody>\n",
       "    <tr>\n",
       "      <th>0</th>\n",
       "      <td>A</td>\n",
       "      <td>2022-06-01</td>\n",
       "    </tr>\n",
       "    <tr>\n",
       "      <th>1</th>\n",
       "      <td>A</td>\n",
       "      <td>2022-06-02</td>\n",
       "    </tr>\n",
       "    <tr>\n",
       "      <th>2</th>\n",
       "      <td>A</td>\n",
       "      <td>2022-06-03</td>\n",
       "    </tr>\n",
       "    <tr>\n",
       "      <th>3</th>\n",
       "      <td>A</td>\n",
       "      <td>2022-06-04</td>\n",
       "    </tr>\n",
       "    <tr>\n",
       "      <th>4</th>\n",
       "      <td>A</td>\n",
       "      <td>2022-06-05</td>\n",
       "    </tr>\n",
       "  </tbody>\n",
       "</table>\n",
       "</div>"
      ],
      "text/plain": [
       "  property booked_days\n",
       "0        A  2022-06-01\n",
       "1        A  2022-06-02\n",
       "2        A  2022-06-03\n",
       "3        A  2022-06-04\n",
       "4        A  2022-06-05"
      ]
     },
     "execution_count": 32,
     "metadata": {},
     "output_type": "execute_result"
    }
   ],
   "source": [
    "# функция explode \n",
    "calendar = calendar.explode(\n",
    "    column=\"booked_days\", ignore_index=True\n",
    ")[[\"property\",\"booked_days\"]]\n",
    "# вывод первых 5 строк\n",
    "calendar.head()"
   ]
  },
  {
   "cell_type": "markdown",
   "metadata": {},
   "source": [
    "Теперь у нас имеется календарь дней, в которые объект недвижимости забронирован.\n",
    "\n",
    "Итоги\n",
    "Мы нашли ответы на 4 вопроса, решили 4 задачи, с которыми вы, скорее всего, столкнётесь, работая с временными рядами, содержащими даты. Надеемся, вам пригодится то, о чём вы сегодня узнали."
   ]
  },
  {
   "cell_type": "markdown",
   "metadata": {},
   "source": [
    "Добрый день! Метод to_datetime не работает с датами в формате 01.01.2022. Что делать с такими датами? Как их быстро конвертировать в 2022-01-01?\n",
    "\n",
    "0\n",
    "\n",
    "\n",
    "AnikinNN\n",
    "22 июл 2022 в 19:36\n",
    "У функции pd.to_datetime() есть аргумент format, в который можно передать формат даты в виде строки. В вашем примере это будет \"%d.%m.%Y\". Эта функция приводит строки к временнОму типу. Данные такого временного типа можно отображать разными способами, в том числе и с помощью такого же format"
   ]
  },
  {
   "cell_type": "markdown",
   "metadata": {},
   "source": [
    "источник https://habr.com/ru/companies/wunderfund/articles/677068/ "
   ]
  }
 ],
 "metadata": {
  "kernelspec": {
   "display_name": "Python 3",
   "language": "python",
   "name": "python3"
  },
  "language_info": {
   "codemirror_mode": {
    "name": "ipython",
    "version": 3
   },
   "file_extension": ".py",
   "mimetype": "text/x-python",
   "name": "python",
   "nbconvert_exporter": "python",
   "pygments_lexer": "ipython3",
   "version": "3.9.10"
  },
  "orig_nbformat": 4
 },
 "nbformat": 4,
 "nbformat_minor": 2
}
