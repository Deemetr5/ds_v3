{
 "cells": [
  {
   "cell_type": "markdown",
   "metadata": {},
   "source": [
    "Дано два файла:\n",
    "\n",
    "orders.csv, содержащий данные о заказах;\n",
    "\n",
    "products.csv, содержащий данные о товарах."
   ]
  },
  {
   "cell_type": "markdown",
   "metadata": {},
   "source": [
    "Прочитайте данные файлы, посмотрите на содержимое таблиц и проанализируйте его.\n",
    "\n",
    "Подумайте, как связаны данные таблицы (какими ключевыми столбцами).\n",
    "\n",
    "Объедините заданные таблицы в таблицу orders_products, чтобы в результирующей таблице оказалась информация обо всех заказах, но не оказалось информации о продуктах, на которых заказов ещё не поступало. "
   ]
  },
  {
   "cell_type": "code",
   "execution_count": null,
   "metadata": {},
   "outputs": [],
   "source": [
    "import pandas as pd\n",
    "\n",
    "orders = pd.read_csv('data/orders.csv')\n",
    "orders.head(2)\n",
    "\n",
    "products = pd.read_csv('data/products.csv')\n",
    "products.head(2)"
   ]
  }
 ],
 "metadata": {
  "language_info": {
   "name": "python"
  },
  "orig_nbformat": 4
 },
 "nbformat": 4,
 "nbformat_minor": 2
}
