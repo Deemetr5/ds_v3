{
 "cells": [
  {
   "attachments": {},
   "cell_type": "markdown",
   "metadata": {},
   "source": [
    "Вам представлены данные (в формате csv) об отчётах очевидцев НЛО в США за период с 1930 по 2020 год.\n",
    "\n",
    "В данных есть следующие признаки:\n",
    "\n",
    "\"City\" — город, где был замечен НЛО;\n",
    "\"Colors Reported\" — цвет объекта;\n",
    "\"Shape Reported\" — форма объекта;\n",
    "\"State\" — обозначение штата;\n",
    "\"Time\" — время, когда был замечен НЛО (данные отсортированы от старых наблюдений к новым). \n",
    "Прочитайте данные, сделайте преобразование времени к формату datetime и выполните задания ниже."
   ]
  },
  {
   "cell_type": "code",
   "execution_count": null,
   "metadata": {},
   "outputs": [],
   "source": [
    "import pandas as pd\n",
    "\n",
    "ufo_data = pd.read_csv('data/ufo.csv', sep=',')\n",
    "ufo_df = ufo_data.copy()\n",
    "ufo_df.head()"
   ]
  },
  {
   "cell_type": "code",
   "execution_count": null,
   "metadata": {},
   "outputs": [],
   "source": [
    "ufo_df['Time'] = pd.to_datetime(ufo_df['Time'])\n",
    "\n",
    "display(ufo_df['Time'].dt.year.mode())\n",
    "display(ufo_df['Time'].dt.year.value_counts())"
   ]
  },
  {
   "cell_type": "code",
   "execution_count": null,
   "metadata": {},
   "outputs": [],
   "source": [
    "\n",
    "# Найдите средний интервал времени (в днях) между двумя \n",
    "# последовательными случаями наблюдения НЛО в штате Невада (NV).\n",
    "# Чтобы выделить дату из столбца Time, можно воспользоваться \n",
    "# атрибутом datetime date. # Чтобы вычислить разницу между двумя \n",
    "# соседними датами в столбце, # примените к нему метод diff(). \n",
    "# Чтобы перевести интервал времени в дни, \n",
    "# воспользуйтесь атрибутом timedelta days.\n",
    "\n",
    "# ufo_diff = ufo_df[ufo_df['State'] == 'NV']['Time'].diff()\n",
    "# display(ufo_diff.shape)\n",
    "\n",
    "# display(ufo_diff.dt.days)\n",
    "\n",
    "ufo_diff = ufo_df[ufo_df['State'] == 'NV']['Time'].diff()\n",
    "display(ufo_diff.head())\n",
    "display(ufo_diff.dt.days)\n",
    "display(ufo_diff.dt.days.mean())"
   ]
  },
  {
   "cell_type": "code",
   "execution_count": null,
   "metadata": {},
   "outputs": [],
   "source": []
  }
 ],
 "metadata": {
  "language_info": {
   "name": "python"
  },
  "orig_nbformat": 4
 },
 "nbformat": 4,
 "nbformat_minor": 2
}
